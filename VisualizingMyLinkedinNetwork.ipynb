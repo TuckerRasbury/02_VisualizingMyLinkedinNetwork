{
 "cells": [
  {
   "cell_type": "markdown",
   "metadata": {},
   "source": [
    "# Visualizing My LinkedIn Network"
   ]
  },
  {
   "cell_type": "markdown",
   "metadata": {},
   "source": [
    "## Initial Imports"
   ]
  },
  {
   "cell_type": "code",
   "execution_count": 29,
   "metadata": {},
   "outputs": [],
   "source": [
    "# Primary \n",
    "import pandas as pd\n",
    "import plotly.express as px\n",
    "import numpy as np"
   ]
  },
  {
   "cell_type": "code",
   "execution_count": 30,
   "metadata": {},
   "outputs": [
    {
     "name": "stdout",
     "output_type": "stream",
     "text": [
      "Requirement already satisfied: pyforest in /Users/itr/opt/anaconda3/envs/PythonData/lib/python3.7/site-packages (1.1.0)\n",
      "Note: you may need to restart the kernel to use updated packages.\n"
     ]
    }
   ],
   "source": [
    "# Secondary\n",
    "%pip install pyforest"
   ]
  },
  {
   "cell_type": "code",
   "execution_count": 31,
   "metadata": {},
   "outputs": [
    {
     "data": {
      "text/plain": [
       "['import textblob',\n",
       " 'import imutils',\n",
       " 'from sklearn.preprocessing import PolynomialFeatures',\n",
       " 'import os',\n",
       " 'from sklearn.linear_model import RidgeCV',\n",
       " 'import seaborn as sns',\n",
       " 'from sklearn.preprocessing import MinMaxScaler',\n",
       " 'from sklearn import metrics',\n",
       " 'from openpyxl import load_workbook',\n",
       " 'from sklearn.linear_model import ElasticNet',\n",
       " 'from sklearn.feature_extraction.text import CountVectorizer',\n",
       " 'import sys',\n",
       " 'from sklearn.preprocessing import LabelEncoder',\n",
       " 'from xlrd import open_workbook',\n",
       " 'import xgboost as xgb',\n",
       " 'from sklearn.linear_model import Lasso',\n",
       " 'from sklearn.preprocessing import OneHotEncoder',\n",
       " 'from sklearn.feature_extraction.text import TfidfVectorizer',\n",
       " 'from sklearn.model_selection import GridSearchCV',\n",
       " 'from sklearn.linear_model import LassoCV',\n",
       " 'from sklearn.model_selection import KFold',\n",
       " 'from sklearn.linear_model import ElasticNetCV',\n",
       " 'import plotly as py',\n",
       " 'from statsmodels.tsa.arima_model import ARIMA',\n",
       " 'import tqdm',\n",
       " 'import altair as alt',\n",
       " 'from sklearn.model_selection import cross_val_score',\n",
       " 'import awswrangler as wr',\n",
       " 'import tensorflow as tf',\n",
       " 'from scipy import stats',\n",
       " 'import keras',\n",
       " 'from sklearn.model_selection import RandomizedSearchCV',\n",
       " 'import datetime as dt',\n",
       " 'import plotly.graph_objs as go',\n",
       " 'import spacy',\n",
       " 'from sklearn.preprocessing import StandardScaler',\n",
       " 'import matplotlib.pyplot as plt',\n",
       " 'from sklearn.model_selection import train_test_split',\n",
       " 'from sklearn.ensemble import GradientBoostingRegressor',\n",
       " 'from sklearn.ensemble import RandomForestClassifier',\n",
       " 'from sklearn.linear_model import LinearRegression',\n",
       " 'import gensim',\n",
       " 'import dash',\n",
       " 'import sklearn',\n",
       " 'from sklearn.manifold import TSNE',\n",
       " 'import statsmodels.api as sm',\n",
       " 'import lightgbm as lgb',\n",
       " 'import numpy as np',\n",
       " 'from sklearn.decomposition import PCA',\n",
       " 'import pydot',\n",
       " 'from sklearn.preprocessing import RobustScaler',\n",
       " 'from sklearn.ensemble import RandomForestRegressor',\n",
       " 'import fbprophet',\n",
       " 'import pickle',\n",
       " 'from sklearn.linear_model import LogisticRegression',\n",
       " 'from sklearn import svm',\n",
       " 'from sklearn.impute import SimpleImputer',\n",
       " 'import fastai',\n",
       " 'from sklearn.model_selection import StratifiedKFold',\n",
       " 'import matplotlib as mpl',\n",
       " 'import cv2',\n",
       " 'import re',\n",
       " 'import statistics',\n",
       " 'from dask import dataframe as dd',\n",
       " 'from scipy import signal as sg',\n",
       " 'from pyspark import SparkContext',\n",
       " 'from sklearn.ensemble import GradientBoostingClassifier',\n",
       " 'import bokeh',\n",
       " 'import skimage',\n",
       " 'from pathlib import Path',\n",
       " 'from PIL import Image',\n",
       " 'from sklearn.linear_model import Ridge',\n",
       " 'import nltk',\n",
       " 'import glob',\n",
       " 'from fbprophet import Prophet',\n",
       " 'import torch',\n",
       " 'from sklearn.cluster import KMeans',\n",
       " 'import plotly.express as px']"
      ]
     },
     "execution_count": 31,
     "metadata": {},
     "output_type": "execute_result"
    }
   ],
   "source": [
    "from pyforest import * \n",
    "lazy_imports()"
   ]
  },
  {
   "cell_type": "code",
   "execution_count": 32,
   "metadata": {},
   "outputs": [
    {
     "data": {
      "application/javascript": "\n        if (window._pyforest_update_imports_cell) { window._pyforest_update_imports_cell('import pandas as pd'); }\n    ",
      "text/plain": [
       "<IPython.core.display.Javascript object>"
      ]
     },
     "metadata": {},
     "output_type": "display_data"
    }
   ],
   "source": [
    "# Importing in the Data\n",
    "\n",
    "path = 'Connections.csv'\n",
    "connections_df = pd.read_csv(path)"
   ]
  },
  {
   "cell_type": "markdown",
   "metadata": {},
   "source": [
    "## Redacting Dataset"
   ]
  },
  {
   "cell_type": "code",
   "execution_count": 35,
   "metadata": {},
   "outputs": [
    {
     "data": {
      "application/javascript": "\n        if (window._pyforest_update_imports_cell) { window._pyforest_update_imports_cell('import pandas as pd'); }\n    ",
      "text/plain": [
       "<IPython.core.display.Javascript object>"
      ]
     },
     "metadata": {},
     "output_type": "display_data"
    },
    {
     "data": {
      "text/html": [
       "<div>\n",
       "<style scoped>\n",
       "    .dataframe tbody tr th:only-of-type {\n",
       "        vertical-align: middle;\n",
       "    }\n",
       "\n",
       "    .dataframe tbody tr th {\n",
       "        vertical-align: top;\n",
       "    }\n",
       "\n",
       "    .dataframe thead th {\n",
       "        text-align: right;\n",
       "    }\n",
       "</style>\n",
       "<table border=\"1\" class=\"dataframe\">\n",
       "  <thead>\n",
       "    <tr style=\"text-align: right;\">\n",
       "      <th></th>\n",
       "      <th>Company</th>\n",
       "      <th>Position</th>\n",
       "      <th>Connected On</th>\n",
       "    </tr>\n",
       "  </thead>\n",
       "  <tbody>\n",
       "    <tr>\n",
       "      <th>0</th>\n",
       "      <td>Carnegie Mellon University</td>\n",
       "      <td>Research Assistant</td>\n",
       "      <td>28 Dec 2021</td>\n",
       "    </tr>\n",
       "    <tr>\n",
       "      <th>1</th>\n",
       "      <td>Motion Recruitment</td>\n",
       "      <td>Senior Talent Advisor</td>\n",
       "      <td>08 Dec 2021</td>\n",
       "    </tr>\n",
       "    <tr>\n",
       "      <th>2</th>\n",
       "      <td>Lucas James Talent Partners</td>\n",
       "      <td>Sourcing Specialist</td>\n",
       "      <td>07 Dec 2021</td>\n",
       "    </tr>\n",
       "    <tr>\n",
       "      <th>3</th>\n",
       "      <td>Franchise Advisory Network</td>\n",
       "      <td>Franchise Talent Acquisition</td>\n",
       "      <td>02 Dec 2021</td>\n",
       "    </tr>\n",
       "    <tr>\n",
       "      <th>4</th>\n",
       "      <td>Edmunds</td>\n",
       "      <td>Lead Analyst</td>\n",
       "      <td>01 Dec 2021</td>\n",
       "    </tr>\n",
       "    <tr>\n",
       "      <th>...</th>\n",
       "      <td>...</td>\n",
       "      <td>...</td>\n",
       "      <td>...</td>\n",
       "    </tr>\n",
       "    <tr>\n",
       "      <th>1428</th>\n",
       "      <td>Pomona College</td>\n",
       "      <td>Summer Events and Conferences Assistant</td>\n",
       "      <td>15 Oct 2014</td>\n",
       "    </tr>\n",
       "    <tr>\n",
       "      <th>1429</th>\n",
       "      <td>Bari Katz Consulting</td>\n",
       "      <td>Social Justice Educator, Curriculum Desiger, F...</td>\n",
       "      <td>14 Oct 2014</td>\n",
       "    </tr>\n",
       "    <tr>\n",
       "      <th>1430</th>\n",
       "      <td>US Environmental Protection Agency (EPA)</td>\n",
       "      <td>Public Affairs Specialist - Pathways Intern, R...</td>\n",
       "      <td>14 Oct 2014</td>\n",
       "    </tr>\n",
       "    <tr>\n",
       "      <th>1431</th>\n",
       "      <td>Pomona College</td>\n",
       "      <td>John Sutton Miner Professor of History and Pro...</td>\n",
       "      <td>14 Oct 2014</td>\n",
       "    </tr>\n",
       "    <tr>\n",
       "      <th>1432</th>\n",
       "      <td>Horizon Blue Cross Blue Shield of New Jersey</td>\n",
       "      <td>Senior Business Analyst</td>\n",
       "      <td>14 Oct 2014</td>\n",
       "    </tr>\n",
       "  </tbody>\n",
       "</table>\n",
       "<p>1433 rows × 3 columns</p>\n",
       "</div>"
      ],
      "text/plain": [
       "                                           Company  \\\n",
       "0                       Carnegie Mellon University   \n",
       "1                               Motion Recruitment   \n",
       "2                      Lucas James Talent Partners   \n",
       "3                       Franchise Advisory Network   \n",
       "4                                          Edmunds   \n",
       "...                                            ...   \n",
       "1428                                Pomona College   \n",
       "1429                          Bari Katz Consulting   \n",
       "1430      US Environmental Protection Agency (EPA)   \n",
       "1431                                Pomona College   \n",
       "1432  Horizon Blue Cross Blue Shield of New Jersey   \n",
       "\n",
       "                                               Position Connected On  \n",
       "0                                    Research Assistant  28 Dec 2021  \n",
       "1                                 Senior Talent Advisor  08 Dec 2021  \n",
       "2                                   Sourcing Specialist  07 Dec 2021  \n",
       "3                          Franchise Talent Acquisition  02 Dec 2021  \n",
       "4                                          Lead Analyst  01 Dec 2021  \n",
       "...                                                 ...          ...  \n",
       "1428            Summer Events and Conferences Assistant  15 Oct 2014  \n",
       "1429  Social Justice Educator, Curriculum Desiger, F...  14 Oct 2014  \n",
       "1430  Public Affairs Specialist - Pathways Intern, R...  14 Oct 2014  \n",
       "1431  John Sutton Miner Professor of History and Pro...  14 Oct 2014  \n",
       "1432                            Senior Business Analyst  14 Oct 2014  \n",
       "\n",
       "[1433 rows x 3 columns]"
      ]
     },
     "execution_count": 35,
     "metadata": {},
     "output_type": "execute_result"
    }
   ],
   "source": [
    "redacted_connections_df = pd.DataFrame(connections_df, columns=['Company', 'Position', 'Connected On'])\n",
    "redacted_connections_df"
   ]
  },
  {
   "cell_type": "code",
   "execution_count": 37,
   "metadata": {},
   "outputs": [],
   "source": [
    "redacted_connections_df.to_csv('redacted_connections.csv', index=False)"
   ]
  }
 ],
 "metadata": {
  "interpreter": {
   "hash": "84ee2ae8eeb89f2490294556e2c0254c3b8988460db625434bfeee44b1f3c47d"
  },
  "kernelspec": {
   "display_name": "Python 3.7.9 64-bit ('mlenv': conda)",
   "language": "python",
   "name": "python3"
  },
  "language_info": {
   "codemirror_mode": {
    "name": "ipython",
    "version": 3
   },
   "file_extension": ".py",
   "mimetype": "text/x-python",
   "name": "python",
   "nbconvert_exporter": "python",
   "pygments_lexer": "ipython3",
   "version": "3.7.7"
  },
  "orig_nbformat": 4
 },
 "nbformat": 4,
 "nbformat_minor": 2
}
